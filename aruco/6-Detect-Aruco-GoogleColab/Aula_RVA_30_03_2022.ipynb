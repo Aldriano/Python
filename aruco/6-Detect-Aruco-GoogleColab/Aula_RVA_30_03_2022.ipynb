{
  "nbformat": 4,
  "nbformat_minor": 0,
  "metadata": {
    "colab": {
      "name": "Aula_RVA_30_03_2022.ipynb",
      "provenance": [],
      "collapsed_sections": []
    },
    "kernelspec": {
      "name": "python3",
      "display_name": "Python 3"
    },
    "language_info": {
      "name": "python"
    }
  },
  "cells": [
    {
      "cell_type": "code",
      "source": [
        "!python --version"
      ],
      "metadata": {
        "colab": {
          "base_uri": "https://localhost:8080/"
        },
        "id": "PJ6tihvksqTZ",
        "outputId": "41de05c4-b265-487c-d2b2-7ace5b960fd0"
      },
      "execution_count": 3,
      "outputs": [
        {
          "output_type": "stream",
          "name": "stdout",
          "text": [
            "Python 3.7.13\n"
          ]
        }
      ]
    },
    {
      "cell_type": "code",
      "execution_count": 1,
      "metadata": {
        "id": "3F8Ld5RH2xFP"
      },
      "outputs": [],
      "source": [
        "import cv2\n",
        "from cv2 import aruco\n",
        "import numpy as np\n",
        "from google.colab.patches import cv2_imshow\n",
        "from IPython.display import display, Javascript\n",
        "from google.colab.output import eval_js\n",
        "from base64 import b64decode\n",
        "from IPython.display import clear_output \n",
        "\n",
        "# get current DateTime\n",
        "from datetime import datetime"
      ]
    },
    {
      "cell_type": "code",
      "source": [
        "def take_photo(filename='photo.jpg', quality=0.8):\n",
        "  js = Javascript('''\n",
        "    async function takePhoto(quality) {\n",
        "      const div = document.createElement('div');\n",
        "\n",
        "      const video = document.createElement('video');\n",
        "      video.style.display = 'hidden';\n",
        "      const stream = await navigator.mediaDevices.getUserMedia({video: true});\n",
        "\n",
        "      document.body.appendChild(div);\n",
        "      div.appendChild(video);\n",
        "      video.srcObject = stream;\n",
        "      await video.play();\n",
        "\n",
        "      const canvas = document.createElement('canvas');\n",
        "      canvas.width = video.videoWidth;\n",
        "      canvas.height = video.videoHeight;\n",
        "      canvas.getContext('2d').drawImage(video, 0, 0);\n",
        "      stream.getVideoTracks()[0].stop();\n",
        "      div.remove();\n",
        "      return canvas.toDataURL('image/jpeg', quality);\n",
        "    }\n",
        "    ''')\n",
        "  display(js)\n",
        "  data = eval_js('takePhoto({})'.format(quality))\n",
        "  binary = b64decode(data.split(',')[1])\n",
        "  with open(filename, 'wb') as f:\n",
        "    f.write(binary)\n",
        "  return filename"
      ],
      "metadata": {
        "id": "Q0sjduxHsk-s"
      },
      "execution_count": 2,
      "outputs": []
    },
    {
      "cell_type": "code",
      "source": [
        "# download imagem\n",
        "!wget https://aldriano.com.br/imagens/debian-logo.png\n",
        "\n",
        "imgAug = cv2.imread(\"debian-logo.png\")\n"
      ],
      "metadata": {
        "id": "P4D4ISybt0_3"
      },
      "execution_count": null,
      "outputs": []
    },
    {
      "cell_type": "code",
      "source": [
        "# observar o dicionário do aruco - 6x6_250\n",
        "def findArucoMarkers(img, markerSize = 6, totalMarkers=250, draw=True):\n",
        "    gray = cv2.cvtColor(img, cv2.COLOR_BGR2GRAY)\n",
        "    key = getattr(aruco, f'DICT_{markerSize}X{markerSize}_{totalMarkers}') #dicionario 6x6\n",
        "    arucoDict = aruco.Dictionary_get(key)\n",
        "    arucoParam = aruco.DetectorParameters_create()\n",
        "    bboxs, ids, rejected = aruco.detectMarkers(gray, arucoDict, parameters = arucoParam)\n",
        "    # print(ids)\n",
        "    if draw:\n",
        "        aruco.drawDetectedMarkers(img, bboxs)\n",
        "    return [bboxs, ids]"
      ],
      "metadata": {
        "id": "pbONS9jN6AHW"
      },
      "execution_count": 3,
      "outputs": []
    },
    {
      "cell_type": "code",
      "source": [
        "def arucoAug(bbox, id, img, imgAug, drawnId=True): \n",
        "    tl = bbox[0][0][0], bbox[0][0][1]\n",
        "    tr = bbox[0][1][0], bbox[0][1][1]\n",
        "    br = bbox[0][2][0], bbox[0][2][1]\n",
        "    bl = bbox[0][3][0], bbox[0][3][1]\n",
        "\n",
        "    h, w, c = imgAug.shape\n",
        "\n",
        "    pts1 = np.array([tl, tr, br, bl])\n",
        "    pts2 = np.float32([[0,0], [w,0], [w,h], [0, h]])\n",
        "\n",
        "    matrix, _ = cv2.findHomography(pts2, pts1)\n",
        "\n",
        "    imgout = cv2.warpPerspective(imgAug, matrix, (img.shape[1],img.shape[0]))\n",
        "\n",
        "    cv2.fillConvexPoly(img, pts1.astype(int), (0,0,0))\n",
        "\n",
        "    imgout = img + imgout\n",
        "    \n",
        "    return imgout"
      ],
      "metadata": {
        "id": "MBFWxrLp6fhG"
      },
      "execution_count": 23,
      "outputs": []
    },
    {
      "cell_type": "code",
      "source": [
        "while True:\n",
        "    dt = str(datetime.now())\n",
        "    nomeImagem = dt.replace(\":\",\"-\")\n",
        "\n",
        "    take_photo()\n",
        "\n",
        "    imgCapturada = cv2.imread('photo.jpg')\n",
        "    #img = cv2.cvtColor(img, cv2.COLOR_BGR2GRAY)\n",
        "    arucofound = findArucoMarkers(imgCapturada)\n",
        "\n",
        "    # loop through all the markers and augment each one\n",
        "    if  len(arucofound[0])!=0:\n",
        "        #for bbox, id in zip(arucofound[0], arucofound[1]):\n",
        "        #    imgCapturada = arucoAug(bbox, id, imgCapturada, imgAug)\n",
        "            \n",
        "        for bbox, id in zip(arucofound[0], arucofound[1]):\n",
        "          imgCapturada = arucoAug(bbox, id, imgCapturada, imgAug)\n",
        "          if imgCapturada is None:\n",
        "              imgCapturada = imgCapturada\n",
        "          else:\n",
        "              imgCapturada += imgCapturada\n",
        "    \n",
        "    clear_output()\n",
        "\n",
        "    print('ids=', arucofound[1])\n",
        "    cv2_imshow(imgCapturada)\n",
        "    if arucofound[1] is not None:\n",
        "       imgSalva = \"img-\"+nomeImagem+\".jpg\"\n",
        "       cv2.imwrite(imgSalva,imgCapturada)\n",
        "\n",
        "         "
      ],
      "metadata": {
        "id": "Ol5yvNFxs-jC"
      },
      "execution_count": null,
      "outputs": []
    }
  ]
}