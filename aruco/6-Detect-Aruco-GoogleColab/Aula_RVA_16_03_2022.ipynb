{
  "nbformat": 4,
  "nbformat_minor": 0,
  "metadata": {
    "colab": {
      "name": "Aula RVA - 16-03-2022.ipynb",
      "provenance": [],
      "collapsed_sections": []
    },
    "kernelspec": {
      "name": "python3",
      "display_name": "Python 3"
    },
    "language_info": {
      "name": "python"
    }
  },
  "cells": [
    {
      "cell_type": "code",
      "execution_count": null,
      "metadata": {
        "id": "3F8Ld5RH2xFP"
      },
      "outputs": [],
      "source": [
        "import cv2\n",
        "from cv2 import aruco\n",
        "from google.colab.patches import cv2_imshow\n",
        "from IPython.display import display, Javascript\n",
        "from google.colab.output import eval_js\n",
        "from base64 import b64decode\n",
        "from IPython.display import clear_output "
      ]
    },
    {
      "cell_type": "code",
      "source": [
        "def take_photo(filename='photo.jpg', quality=0.8):\n",
        "  js = Javascript('''\n",
        "    async function takePhoto(quality) {\n",
        "      const div = document.createElement('div');\n",
        "\n",
        "      const video = document.createElement('video');\n",
        "      video.style.display = 'hidden';\n",
        "      const stream = await navigator.mediaDevices.getUserMedia({video: true});\n",
        "\n",
        "      document.body.appendChild(div);\n",
        "      div.appendChild(video);\n",
        "      video.srcObject = stream;\n",
        "      await video.play();\n",
        "\n",
        "      const canvas = document.createElement('canvas');\n",
        "      canvas.width = video.videoWidth;\n",
        "      canvas.height = video.videoHeight;\n",
        "      canvas.getContext('2d').drawImage(video, 0, 0);\n",
        "      stream.getVideoTracks()[0].stop();\n",
        "      div.remove();\n",
        "      return canvas.toDataURL('image/jpeg', quality);\n",
        "    }\n",
        "    ''')\n",
        "  display(js)\n",
        "  data = eval_js('takePhoto({})'.format(quality))\n",
        "  binary = b64decode(data.split(',')[1])\n",
        "  with open(filename, 'wb') as f:\n",
        "    f.write(binary)\n",
        "  return filename"
      ],
      "metadata": {
        "id": "oLwrssAo4iJN"
      },
      "execution_count": null,
      "outputs": []
    },
    {
      "cell_type": "code",
      "source": [
        "aruco_dict = aruco.Dictionary_get(aruco.DICT_4X4_250)\n",
        "parameters = aruco.DetectorParameters_create()"
      ],
      "metadata": {
        "id": "KC_obEB069Kd"
      },
      "execution_count": null,
      "outputs": []
    },
    {
      "cell_type": "code",
      "source": [
        "while True:\n",
        "\n",
        "    take_photo()\n",
        "\n",
        "    img = cv2.imread('photo.jpg')\n",
        "\n",
        "    corners, ids, rejected_imgs_points = aruco.detectMarkers(img, aruco_dict, parameters=parameters)\n",
        "\n",
        "    out = aruco.drawDetectedMarkers(img, corners, ids)\n",
        "    \n",
        "    clear_output()\n",
        "\n",
        "    print('ids=', ids)\n",
        "\n",
        "    cv2_imshow(out)"
      ],
      "metadata": {
        "id": "6_mZ4VyB2_VO"
      },
      "execution_count": null,
      "outputs": []
    }
  ]
}